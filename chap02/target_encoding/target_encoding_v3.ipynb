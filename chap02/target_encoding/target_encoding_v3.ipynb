{
 "cells": [
  {
   "cell_type": "code",
   "execution_count": 1,
   "metadata": {},
   "outputs": [],
   "source": [
    "import numpy as np\n",
    "import pandas as pd\n",
    "from collections import defaultdict"
   ]
  },
  {
   "cell_type": "code",
   "execution_count": 52,
   "metadata": {},
   "outputs": [],
   "source": [
    "y = np.random.randint(2, size=(500, 1))\n",
    "x = np.random.randint(10, size=(500, 1))\n",
    "data = pd.DataFrame(np.concatenate([y, x], axis=1), columns=['y', 'x'])"
   ]
  },
  {
   "cell_type": "code",
   "execution_count": 3,
   "metadata": {},
   "outputs": [],
   "source": [
    "def target_mean_v1(data, y_name, x_name):\n",
    "    result = np.zeros(data.shape[0])\n",
    "    for i in range(data.shape[0]):\n",
    "        groupby_result = data[data.index != i].groupby([x_name], as_index=False).agg(['mean', 'count'])\n",
    "        result[i] = groupby_result.loc[groupby_result.index == data.loc[i, x_name], (y_name, 'mean')]\n",
    "    return result\n",
    "\n",
    "def test_eq(a, b):\n",
    "    assert np.allclose(a, b)"
   ]
  },
  {
   "cell_type": "code",
   "execution_count": 4,
   "metadata": {},
   "outputs": [],
   "source": [
    "def target_mean_v2(data, y_name, x_name):\n",
    "    result = np.zeros(data.shape[0])\n",
    "    value_dict = dict()\n",
    "    count_dict = dict()\n",
    "    for i in range(data.shape[0]):\n",
    "        if data.loc[i, x_name] not in value_dict.keys():\n",
    "            value_dict[data.loc[i, x_name]] = data.loc[i, y_name]\n",
    "            count_dict[data.loc[i, x_name]] = 1\n",
    "        else:\n",
    "            value_dict[data.loc[i, x_name]] += data.loc[i, y_name]\n",
    "            count_dict[data.loc[i, x_name]] += 1\n",
    "    for i in range(data.shape[0]):\n",
    "        result[i] = (value_dict[data.loc[i, x_name]] - data.loc[i, y_name]) / (count_dict[data.loc[i, x_name]] - 1)\n",
    "    return result"
   ]
  },
  {
   "cell_type": "code",
   "execution_count": 5,
   "metadata": {},
   "outputs": [],
   "source": [
    "test_eq(target_mean_v1(data, 'y', 'x'), target_mean_v2(data, 'y', 'x'))"
   ]
  },
  {
   "cell_type": "code",
   "execution_count": 6,
   "metadata": {},
   "outputs": [
    {
     "name": "stdout",
     "output_type": "stream",
     "text": [
      "6.39 s ± 440 ms per loop (mean ± std. dev. of 7 runs, 1 loop each)\n"
     ]
    }
   ],
   "source": [
    "%%timeit\n",
    "res_v1 = target_mean_v1(data, 'y', 'x')"
   ]
  },
  {
   "cell_type": "code",
   "execution_count": 7,
   "metadata": {},
   "outputs": [
    {
     "name": "stdout",
     "output_type": "stream",
     "text": [
      "67.2 ms ± 4.43 ms per loop (mean ± std. dev. of 7 runs, 10 loops each)\n"
     ]
    }
   ],
   "source": [
    "%%timeit\n",
    "res_v2 = target_mean_v2(data, 'y', 'x')"
   ]
  },
  {
   "cell_type": "code",
   "execution_count": 33,
   "metadata": {},
   "outputs": [
    {
     "name": "stdout",
     "output_type": "stream",
     "text": [
      "V2: Speed up 95.1 times\n"
     ]
    }
   ],
   "source": [
    "print(f\"V2: Speed up {6.39 / (67.2 / 1e3):.1f} times\")"
   ]
  },
  {
   "cell_type": "code",
   "execution_count": 29,
   "metadata": {},
   "outputs": [],
   "source": [
    "def target_mean_v3(data, y_name, x_name):\n",
    "    n = data.shape[0]\n",
    "    X = data[x_name].values\n",
    "    Y = data[y_name].values\n",
    "    value_dict = defaultdict(lambda:0)\n",
    "    count_dict = defaultdict(lambda:0)\n",
    "    for x, y in zip(X, Y):\n",
    "        value_dict[x] += y\n",
    "        count_dict[x] += 1\n",
    "    result = [(value_dict[x] - y) / (count_dict[x] - 1) for x, y in zip(X, Y)]\n",
    "    return result"
   ]
  },
  {
   "cell_type": "code",
   "execution_count": 31,
   "metadata": {},
   "outputs": [],
   "source": [
    "test_eq(target_mean_v1(data, 'y', 'x'), target_mean_v3(data, 'y', 'x'))"
   ]
  },
  {
   "cell_type": "code",
   "execution_count": 30,
   "metadata": {},
   "outputs": [
    {
     "name": "stdout",
     "output_type": "stream",
     "text": [
      "938 µs ± 78.9 µs per loop (mean ± std. dev. of 7 runs, 1000 loops each)\n"
     ]
    }
   ],
   "source": [
    "%%timeit\n",
    "res_v3 = target_mean_v3(data, 'y', 'x')"
   ]
  },
  {
   "cell_type": "code",
   "execution_count": 32,
   "metadata": {},
   "outputs": [
    {
     "name": "stdout",
     "output_type": "stream",
     "text": [
      "V3: Speed up 6812.4 times\n"
     ]
    }
   ],
   "source": [
    "print(f\"V3: Speed up {6.39 / (938 / 1e6):.1f} times\")"
   ]
  },
  {
   "cell_type": "code",
   "execution_count": 72,
   "metadata": {},
   "outputs": [],
   "source": [
    "def target_mean_v4(data, y_name, x_name):\n",
    "    n = data.shape[0]\n",
    "    X = data[x_name].values\n",
    "    Y = data[y_name].values\n",
    "    result = np.empty_like(Y, dtype='float')\n",
    "    \n",
    "    for i in range(n):\n",
    "        which = (X == x[i]) # has for-loop?\n",
    "        which[i] = False\n",
    "        idxs = np.where(which)[0] # has for-loop?\n",
    "        result[i] = Y[idxs].mean()  # has for-loop\n",
    "    return result"
   ]
  },
  {
   "cell_type": "code",
   "execution_count": 73,
   "metadata": {},
   "outputs": [],
   "source": [
    "test_eq(target_mean_v1(data, 'y', 'x'), target_mean_v4(data, 'y', 'x'))"
   ]
  },
  {
   "cell_type": "code",
   "execution_count": 74,
   "metadata": {},
   "outputs": [
    {
     "name": "stdout",
     "output_type": "stream",
     "text": [
      "9.95 ms ± 382 µs per loop (mean ± std. dev. of 7 runs, 100 loops each)\n"
     ]
    }
   ],
   "source": [
    "%%timeit\n",
    "res_v4 = target_mean_v4(data, 'y', 'x')"
   ]
  },
  {
   "cell_type": "code",
   "execution_count": 69,
   "metadata": {},
   "outputs": [],
   "source": [
    "def target_mean_v5(data, y_name, x_name):\n",
    "    n = data.shape[0]\n",
    "    X = data[x_name].values\n",
    "    Y = data[y_name].values\n",
    "    result = np.empty_like(Y, dtype='float')\n",
    "#     value_dict = defaultdict(lambda:0)\n",
    "#     count_dict = defaultdict(lambda:0)\n",
    "    which = []\n",
    "    for i in range(n):\n",
    "        _which = (X == x[i])\n",
    "        _which[i] = False\n",
    "        which.append(_which)\n",
    "        idxs = np.where(which)[0] # inner for-loop?\n",
    "        result[i] = Y[idxs].mean()  # inner for-loop\n",
    "    \n",
    "    for i, o in enumerate(which):\n",
    "        result[i] = np.mean([Y[j] for j, e in enumerate(o) if e])\n",
    "    \n",
    "    return result"
   ]
  },
  {
   "cell_type": "code",
   "execution_count": 70,
   "metadata": {},
   "outputs": [],
   "source": [
    "test_eq(target_mean_v1(data, 'y', 'x'), target_mean_v5(data, 'y', 'x'))"
   ]
  },
  {
   "cell_type": "code",
   "execution_count": 71,
   "metadata": {},
   "outputs": [
    {
     "name": "stdout",
     "output_type": "stream",
     "text": [
      "543 ms ± 34.2 ms per loop (mean ± std. dev. of 7 runs, 1 loop each)\n"
     ]
    }
   ],
   "source": [
    "%%timeit\n",
    "res_v5 = target_mean_v5(data, 'y', 'x')"
   ]
  },
  {
   "cell_type": "code",
   "execution_count": 75,
   "metadata": {},
   "outputs": [],
   "source": [
    "def target_mean_v6(data, y_name, x_name):\n",
    "    n = data.shape[0]\n",
    "    X = data[x_name].values\n",
    "    Y = data[y_name].values\n",
    "    value_dict = defaultdict(lambda:0)\n",
    "    count_dict = defaultdict(lambda:0)\n",
    "    for i in range(n):\n",
    "        value_dict[X[i]] += Y[i]\n",
    "        count_dict[X[i]] += 1\n",
    "    result = [(value_dict[X[i]] - Y[i]) / (count_dict[X[i]] - 1) for i in range(n)]\n",
    "    return result"
   ]
  },
  {
   "cell_type": "code",
   "execution_count": 76,
   "metadata": {},
   "outputs": [],
   "source": [
    "test_eq(target_mean_v1(data, 'y', 'x'), target_mean_v6(data, 'y', 'x'))"
   ]
  },
  {
   "cell_type": "code",
   "execution_count": 77,
   "metadata": {},
   "outputs": [
    {
     "name": "stdout",
     "output_type": "stream",
     "text": [
      "1.23 ms ± 36.3 µs per loop (mean ± std. dev. of 7 runs, 1000 loops each)\n"
     ]
    }
   ],
   "source": [
    "%%timeit\n",
    "res_v6 = target_mean_v6(data, 'y', 'x')"
   ]
  },
  {
   "cell_type": "code",
   "execution_count": null,
   "metadata": {},
   "outputs": [],
   "source": []
  }
 ],
 "metadata": {
  "kernelspec": {
   "display_name": "Python 3",
   "language": "python",
   "name": "python3"
  },
  "language_info": {
   "codemirror_mode": {
    "name": "ipython",
    "version": 3
   },
   "file_extension": ".py",
   "mimetype": "text/x-python",
   "name": "python",
   "nbconvert_exporter": "python",
   "pygments_lexer": "ipython3",
   "version": "3.7.4"
  }
 },
 "nbformat": 4,
 "nbformat_minor": 4
}
